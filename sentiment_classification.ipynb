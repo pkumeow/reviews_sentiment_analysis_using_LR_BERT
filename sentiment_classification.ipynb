{
 "cells": [
  {
   "cell_type": "code",
   "execution_count": null,
   "metadata": {
    "execution": {
     "iopub.execute_input": "2022-11-23T11:25:23.172281Z",
     "iopub.status.busy": "2022-11-23T11:25:23.171975Z",
     "iopub.status.idle": "2022-11-23T11:25:23.313400Z",
     "shell.execute_reply": "2022-11-23T11:25:23.312883Z",
     "shell.execute_reply.started": "2022-11-23T11:25:23.172261Z"
    },
    "tags": []
   },
   "outputs": [],
   "source": [
    "import numpy as np\n",
    "import pandas as pd\n",
    "\n",
    "import matplotlib as mpl\n",
    "import matplotlib.pyplot as plt\n",
    "%matplotlib inline\n",
    "import seaborn as sns\n",
    "\n",
    "#调研发现的好用的工具包！填充缺失值、大小写转换、移除标点符号、移除空白字符\n",
    "#import texthero as hero\n",
    "\n",
    "from sklearn.model_selection import train_test_split   \n",
    "import sklearn.metrics as mt\n",
    "from sklearn.metrics import accuracy_score\n",
    "from sklearn.metrics import roc_auc_score as AUC\n",
    "from sklearn.metrics import roc_curve\n",
    "from sklearn.linear_model import LogisticRegression\n",
    "from sklearn.feature_extraction.text import TfidfVectorizer\n",
    "\n",
    "from torch.utils.data import Dataset\n",
    "from pytorch_pretrained_bert import BertTokenizer, BertModel, BertForMaskedLM, BertForSequenceClassification\n",
    "import torch\n",
    "import time\n",
    "from transformers import BertForSequenceClassification\n",
    "from torch.utils.data import DataLoader\n",
    "from torch.nn.utils.rnn import pad_sequence"
   ]
  },
  {
   "cell_type": "code",
   "execution_count": 4,
   "metadata": {
    "execution": {
     "iopub.execute_input": "2022-11-23T11:52:38.595136Z",
     "iopub.status.busy": "2022-11-23T11:52:38.594878Z",
     "iopub.status.idle": "2022-11-23T11:52:38.714159Z",
     "shell.execute_reply": "2022-11-23T11:52:38.713134Z",
     "shell.execute_reply.started": "2022-11-23T11:52:38.595116Z"
    },
    "tags": []
   },
   "outputs": [
    {
     "name": "stdout",
     "output_type": "stream",
     "text": [
      "4740\n"
     ]
    },
    {
     "data": {
      "text/html": [
       "<div>\n",
       "<style scoped>\n",
       "    .dataframe tbody tr th:only-of-type {\n",
       "        vertical-align: middle;\n",
       "    }\n",
       "\n",
       "    .dataframe tbody tr th {\n",
       "        vertical-align: top;\n",
       "    }\n",
       "\n",
       "    .dataframe thead th {\n",
       "        text-align: right;\n",
       "    }\n",
       "</style>\n",
       "<table border=\"1\" class=\"dataframe\">\n",
       "  <thead>\n",
       "    <tr style=\"text-align: right;\">\n",
       "      <th></th>\n",
       "      <th>Review Text</th>\n",
       "      <th>Label</th>\n",
       "    </tr>\n",
       "  </thead>\n",
       "  <tbody>\n",
       "    <tr>\n",
       "      <th>0</th>\n",
       "      <td>If you like a slightly heavier, non/clingy bas...</td>\n",
       "      <td>1</td>\n",
       "    </tr>\n",
       "    <tr>\n",
       "      <th>1</th>\n",
       "      <td>This is a wonderful vest! i love the lining!! ...</td>\n",
       "      <td>1</td>\n",
       "    </tr>\n",
       "    <tr>\n",
       "      <th>2</th>\n",
       "      <td>I've gotten so many compliments. i'll never bu...</td>\n",
       "      <td>1</td>\n",
       "    </tr>\n",
       "    <tr>\n",
       "      <th>3</th>\n",
       "      <td>I absolutely love this bra-it is the most comf...</td>\n",
       "      <td>1</td>\n",
       "    </tr>\n",
       "    <tr>\n",
       "      <th>4</th>\n",
       "      <td>Beautiful top but it didn't fit. i am small ch...</td>\n",
       "      <td>1</td>\n",
       "    </tr>\n",
       "  </tbody>\n",
       "</table>\n",
       "</div>"
      ],
      "text/plain": [
       "                                         Review Text  Label\n",
       "0  If you like a slightly heavier, non/clingy bas...      1\n",
       "1  This is a wonderful vest! i love the lining!! ...      1\n",
       "2  I've gotten so many compliments. i'll never bu...      1\n",
       "3  I absolutely love this bra-it is the most comf...      1\n",
       "4  Beautiful top but it didn't fit. i am small ch...      1"
      ]
     },
     "execution_count": 4,
     "metadata": {},
     "output_type": "execute_result"
    }
   ],
   "source": [
    "#导入数据集\n",
    "df = pd.read_csv(\"Womens Clothing E-Commerce Reviews.csv\")\n",
    "#df = pd.read_csv(\"/openbayes/input/input0/Womens Clothing E-Commerce Reviews.csv\")\n",
    "df.drop(df.columns[0],inplace=True, axis=1)\n",
    "len(df)#23486\n",
    "df=df[df['Review Text'].notnull()] \n",
    "len(df)#22641\n",
    "df[df['Rating'].isnull()]#0\n",
    "#根据Rating字段打标\n",
    "set(df['Rating'].tolist())#{1, 2, 3, 4, 5}\n",
    "df[\"Label\"] = 0\n",
    "df.loc[df.Rating >= 3,[\"Label\"]] = 1#积极评论\n",
    "data_unbalanced=df[['Review Text','Label']]\n",
    "#不平衡数据的欠采样\n",
    "df[\"Label\"].tolist().count(0)#2370\n",
    "df[\"Label\"].tolist().count(1)#20271\n",
    "subset =df[df[\"Label\"]==1].sample(n=2370)\n",
    "df=pd.concat ([subset,df[df[\"Label\"]==0]],axis =0,ignore_index =True) #正负样本均为2370\n",
    "data=df[['Review Text','Label']]\n",
    "print(len(data))#4740\n",
    "data.head()\n",
    "#data.to_csv(\"nvzhuang4740.csv\")"
   ]
  },
  {
   "cell_type": "code",
   "execution_count": 53,
   "metadata": {
    "execution": {
     "iopub.execute_input": "2022-11-23T11:52:39.193958Z",
     "iopub.status.busy": "2022-11-23T11:52:39.193661Z",
     "iopub.status.idle": "2022-11-23T11:52:39.363232Z",
     "shell.execute_reply": "2022-11-23T11:52:39.362386Z",
     "shell.execute_reply.started": "2022-11-23T11:52:39.193941Z"
    },
    "tags": []
   },
   "outputs": [
    {
     "data": {
      "image/png": "[encoded data removed]",
      "text/plain": [
       "<Figure size 500x500 with 1 Axes>"
      ]
     },
     "metadata": {},
     "output_type": "display_data"
    }
   ],
   "source": [
    "sns.displot(x='Rating',data=df,kind=\"hist\")\n",
    "plt.show()"
   ]
  },
  {
   "cell_type": "code",
   "execution_count": 5,
   "metadata": {
    "execution": {
     "iopub.execute_input": "2022-11-23T11:52:39.761943Z",
     "iopub.status.busy": "2022-11-23T11:52:39.761634Z",
     "iopub.status.idle": "2022-11-23T11:52:39.766988Z",
     "shell.execute_reply": "2022-11-23T11:52:39.766156Z",
     "shell.execute_reply.started": "2022-11-23T11:52:39.761900Z"
    },
    "tags": []
   },
   "outputs": [],
   "source": [
    "#8:2划分训练集和测试集\n",
    "train_data,test_data = train_test_split(data,train_size=0.8,random_state=0) \n",
    "\n",
    "#对比实验，观察使用unbalanced数据实验结果会有什么不同\n",
    "#train_data,test_data = train_test_split(data_unbalanced,train_size=0.8,random_state=0)"
   ]
  },
  {
   "cell_type": "code",
   "execution_count": 7,
   "metadata": {
    "execution": {
     "iopub.execute_input": "2022-11-23T11:52:40.710606Z",
     "iopub.status.busy": "2022-11-23T11:52:40.710244Z",
     "iopub.status.idle": "2022-11-23T11:52:40.721867Z",
     "shell.execute_reply": "2022-11-23T11:52:40.720966Z",
     "shell.execute_reply.started": "2022-11-23T11:52:40.710575Z"
    },
    "tags": []
   },
   "outputs": [
    {
     "data": {
      "text/html": [
       "<div>\n",
       "<style scoped>\n",
       "    .dataframe tbody tr th:only-of-type {\n",
       "        vertical-align: middle;\n",
       "    }\n",
       "\n",
       "    .dataframe tbody tr th {\n",
       "        vertical-align: top;\n",
       "    }\n",
       "\n",
       "    .dataframe thead th {\n",
       "        text-align: right;\n",
       "    }\n",
       "</style>\n",
       "<table border=\"1\" class=\"dataframe\">\n",
       "  <thead>\n",
       "    <tr style=\"text-align: right;\">\n",
       "      <th></th>\n",
       "      <th>Review Text</th>\n",
       "      <th>Label</th>\n",
       "    </tr>\n",
       "  </thead>\n",
       "  <tbody>\n",
       "    <tr>\n",
       "      <th>347</th>\n",
       "      <td>I was able to try this one on at the store, an...</td>\n",
       "      <td>1</td>\n",
       "    </tr>\n",
       "    <tr>\n",
       "      <th>1001</th>\n",
       "      <td>This is what i'd been looking for without even...</td>\n",
       "      <td>1</td>\n",
       "    </tr>\n",
       "    <tr>\n",
       "      <th>470</th>\n",
       "      <td>This shirt can look very elegant thanks to the...</td>\n",
       "      <td>1</td>\n",
       "    </tr>\n",
       "    <tr>\n",
       "      <th>3598</th>\n",
       "      <td>This dress did not work well on my figure. i h...</td>\n",
       "      <td>0</td>\n",
       "    </tr>\n",
       "    <tr>\n",
       "      <th>1367</th>\n",
       "      <td>Beautiful, flattering dress. love that you can...</td>\n",
       "      <td>1</td>\n",
       "    </tr>\n",
       "    <tr>\n",
       "      <th>...</th>\n",
       "      <td>...</td>\n",
       "      <td>...</td>\n",
       "    </tr>\n",
       "    <tr>\n",
       "      <th>1033</th>\n",
       "      <td>I bought this on sale and absolutely love it. ...</td>\n",
       "      <td>1</td>\n",
       "    </tr>\n",
       "    <tr>\n",
       "      <th>3264</th>\n",
       "      <td>The material that was used to make this top is...</td>\n",
       "      <td>0</td>\n",
       "    </tr>\n",
       "    <tr>\n",
       "      <th>1653</th>\n",
       "      <td>I love this tee, and am a picky tee person. it...</td>\n",
       "      <td>1</td>\n",
       "    </tr>\n",
       "    <tr>\n",
       "      <th>2607</th>\n",
       "      <td>The top fits nice, but after one wear (didn't ...</td>\n",
       "      <td>0</td>\n",
       "    </tr>\n",
       "    <tr>\n",
       "      <th>2732</th>\n",
       "      <td>Ordered online, and when it came i was very ex...</td>\n",
       "      <td>0</td>\n",
       "    </tr>\n",
       "  </tbody>\n",
       "</table>\n",
       "<p>3792 rows × 2 columns</p>\n",
       "</div>"
      ],
      "text/plain": [
       "                                            Review Text  Label\n",
       "347   I was able to try this one on at the store, an...      1\n",
       "1001  This is what i'd been looking for without even...      1\n",
       "470   This shirt can look very elegant thanks to the...      1\n",
       "3598  This dress did not work well on my figure. i h...      0\n",
       "1367  Beautiful, flattering dress. love that you can...      1\n",
       "...                                                 ...    ...\n",
       "1033  I bought this on sale and absolutely love it. ...      1\n",
       "3264  The material that was used to make this top is...      0\n",
       "1653  I love this tee, and am a picky tee person. it...      1\n",
       "2607  The top fits nice, but after one wear (didn't ...      0\n",
       "2732  Ordered online, and when it came i was very ex...      0\n",
       "\n",
       "[3792 rows x 2 columns]"
      ]
     },
     "execution_count": 7,
     "metadata": {},
     "output_type": "execute_result"
    }
   ],
   "source": [
    "train_data"
   ]
  },
  {
   "cell_type": "markdown",
   "metadata": {},
   "source": [
    "#### 1.机器学习方法——Logistic Regression"
   ]
  },
  {
   "cell_type": "code",
   "execution_count": 56,
   "metadata": {
    "execution": {
     "iopub.execute_input": "2022-11-23T11:52:44.467757Z",
     "iopub.status.busy": "2022-11-23T11:52:44.467384Z",
     "iopub.status.idle": "2022-11-23T11:52:44.473123Z",
     "shell.execute_reply": "2022-11-23T11:52:44.472230Z",
     "shell.execute_reply.started": "2022-11-23T11:52:44.467725Z"
    },
    "tags": []
   },
   "outputs": [],
   "source": [
    "#使用hero工具包进行英文文本的清理，hero.clean函数实际做了如下工作：\n",
    "#fillna()lowercase()remove_digits()remove_punctuation()remove_diacritics()remove_stopwords()remove_whitespace()\n",
    "XTrain=train_data['Review Text']\n",
    "XTest=test_data['Review Text']\n",
    "#XTrain=hero.clean(train_data['Review Text']) \n",
    "#XTest=hero.clean(test_data['Review Text'])"
   ]
  },
  {
   "cell_type": "code",
   "execution_count": 57,
   "metadata": {
    "execution": {
     "iopub.execute_input": "2022-11-23T11:52:46.902560Z",
     "iopub.status.busy": "2022-11-23T11:52:46.902217Z",
     "iopub.status.idle": "2022-11-23T11:52:47.074078Z",
     "shell.execute_reply": "2022-11-23T11:52:47.073255Z",
     "shell.execute_reply.started": "2022-11-23T11:52:46.902529Z"
    },
    "tags": []
   },
   "outputs": [],
   "source": [
    "#文本向量化表示\n",
    "vect = TfidfVectorizer() \n",
    "X_train = vect.fit_transform(XTrain)\n",
    "X_test=vect.transform(XTest)\n",
    "\n",
    "y_train=train_data['Label']\n",
    "y_test=test_data['Label']"
   ]
  },
  {
   "cell_type": "code",
   "execution_count": 58,
   "metadata": {
    "execution": {
     "iopub.execute_input": "2022-11-23T11:52:48.044899Z",
     "iopub.status.busy": "2022-11-23T11:52:48.044612Z",
     "iopub.status.idle": "2022-11-23T11:52:48.109053Z",
     "shell.execute_reply": "2022-11-23T11:52:48.108552Z",
     "shell.execute_reply.started": "2022-11-23T11:52:48.044873Z"
    },
    "tags": []
   },
   "outputs": [
    {
     "name": "stdout",
     "output_type": "stream",
     "text": [
      "CPU times: user 8 µs, sys: 1 µs, total: 9 µs\n",
      "Wall time: 17.2 µs\n",
      "Classification Accuracy is 0.8533755274261603\n",
      "Logistic Regression\n",
      "              precision    recall  f1-score   support\n",
      "\n",
      "           0       0.85      0.86      0.85       475\n",
      "           1       0.86      0.85      0.85       473\n",
      "\n",
      "    accuracy                           0.85       948\n",
      "   macro avg       0.85      0.85      0.85       948\n",
      "weighted avg       0.85      0.85      0.85       948\n",
      "\n"
     ]
    }
   ],
   "source": [
    "%time\n",
    "lr=LogisticRegression(solver='lbfgs',penalty='l2',random_state=0)\n",
    "clf=lr.fit(X_train,y_train)\n",
    "pred_senti = clf.predict(X_test)\n",
    "\n",
    "LR_acc_score = accuracy_score(pred_senti,y_test)\n",
    "print(\"Classification Accuracy is {}\".format(LR_acc_score))\n",
    "\n",
    "print(\"Logistic Regression\")\n",
    "print(mt.classification_report(y_test, pred_senti))"
   ]
  },
  {
   "cell_type": "code",
   "execution_count": 18,
   "metadata": {
    "execution": {
     "iopub.execute_input": "2022-11-23T11:27:51.318839Z",
     "iopub.status.busy": "2022-11-23T11:27:51.318611Z",
     "iopub.status.idle": "2022-11-23T11:27:51.461565Z",
     "shell.execute_reply": "2022-11-23T11:27:51.461109Z",
     "shell.execute_reply.started": "2022-11-23T11:27:51.318823Z"
    }
   },
   "outputs": [
    {
     "data": {
      "image/png": "[encoded data removed]",
      "text/plain": [
       "<Figure size 640x480 with 1 Axes>"
      ]
     },
     "metadata": {},
     "output_type": "display_data"
    }
   ],
   "source": [
    "FPR, TPR, thresholds = roc_curve(y_test,clf.decision_function(X_test))\n",
    "\n",
    "area = AUC(y_test,clf.decision_function(X_test))\n",
    "plt.figure()\n",
    "plt.plot(FPR, TPR, color='red',\n",
    "         label='ROC curve (area = %0.2f)' % area)\n",
    "plt.plot([0, 1], [0, 1], color='black', linestyle='--')\n",
    "plt.xlim([-0.05, 1.05])\n",
    "plt.ylim([-0.05, 1.05])\n",
    "plt.xlabel('False Positive Rate')\n",
    "plt.ylabel('True Positive Rate')\n",
    "plt.title('ROC of Logistic Regression')\n",
    "plt.legend(loc=\"lower right\")\n",
    "plt.show()"
   ]
  },
  {
   "cell_type": "markdown",
   "metadata": {},
   "source": [
    "#### 2.深度学习方法——BERT预训练文本分类模型"
   ]
  },
  {
   "cell_type": "code",
   "execution_count": 64,
   "metadata": {
    "execution": {
     "iopub.execute_input": "2022-11-23T11:55:35.239789Z",
     "iopub.status.busy": "2022-11-23T11:55:35.239553Z",
     "iopub.status.idle": "2022-11-23T11:55:37.523592Z",
     "shell.execute_reply": "2022-11-23T11:55:37.522263Z",
     "shell.execute_reply.started": "2022-11-23T11:55:35.239773Z"
    },
    "tags": []
   },
   "outputs": [],
   "source": [
    "train=train_data\n",
    "test=test_data\n",
    "\n",
    "#数据tokenize\n",
    "class MyDataset(Dataset):\n",
    "    def __init__(self, df_a):\n",
    "        self.df = df_a\n",
    "        self.len = len(self.df)\n",
    "        self.tokenizer = BertTokenizer.from_pretrained('bert-base-uncased')\n",
    "    \n",
    "    def __getitem__(self, idx):\n",
    "        comment, label = self.df.iloc[idx, 0:].to_numpy()\n",
    "        label_tensor = torch.tensor(label)\n",
    "            \n",
    "        tokens_comment = self.tokenizer.tokenize(comment)\n",
    "        #标记符号，CLS开头，SEP断句\n",
    "        word_pieces = [\"[CLS]\"] + tokens_comment + [\"[SEP]\"]\n",
    "        len_comment = len(word_pieces)\n",
    "\n",
    "        ids = self.tokenizer.convert_tokens_to_ids(word_pieces)\n",
    "        tokens_tensor = torch.tensor(ids)\n",
    "        \n",
    "        return (tokens_tensor, label_tensor)\n",
    "\n",
    "    def __len__(self):\n",
    "        return self.len\n",
    "    \n",
    "trainset = MyDataset(df_a = train)\n",
    "testset = MyDataset(df_a = test)"
   ]
  },
  {
   "cell_type": "code",
   "execution_count": 65,
   "metadata": {
    "execution": {
     "iopub.execute_input": "2022-11-23T11:55:37.525554Z",
     "iopub.status.busy": "2022-11-23T11:55:37.525290Z",
     "iopub.status.idle": "2022-11-23T11:55:37.535021Z",
     "shell.execute_reply": "2022-11-23T11:55:37.534197Z",
     "shell.execute_reply.started": "2022-11-23T11:55:37.525529Z"
    },
    "tags": []
   },
   "outputs": [],
   "source": [
    "\"\"\"\n",
    "- 训练时需要的tensor\n",
    "- tokens_tensors  : (batch_size, max_seq_len_in_batch)\n",
    "- masks_tensors   : (batch_size, max_seq_len_in_batch)\n",
    "- label_ids       : (batch_size)\n",
    "\"\"\"\n",
    "#每个 sample 有tokens_tensor和label_tensor\n",
    "\n",
    "def create_mini_batch(samples):\n",
    "    tokens_tensors = [s[0] for s in samples]\n",
    "    \n",
    "    if samples[0][1] is not None:\n",
    "        label_ids = torch.stack([s[1] for s in samples])\n",
    "    else:\n",
    "        label_ids = None\n",
    "    \n",
    "    # zero pad\n",
    "    tokens_tensors = pad_sequence(tokens_tensors,  batch_first=True)\n",
    "    \n",
    "    # attention masks, 非 padding 则为 1\n",
    "    masks_tensors = torch.zeros(tokens_tensors.shape, dtype=torch.long)\n",
    "    masks_tensors = masks_tensors.masked_fill(tokens_tensors != 0, 1)\n",
    "    \n",
    "    return tokens_tensors, masks_tensors, label_ids\n",
    "\n",
    "#载入数据\n",
    "BATCH_SIZE = 32\n",
    "trainloader = DataLoader(trainset, batch_size=BATCH_SIZE, collate_fn=create_mini_batch)\n",
    "testloader = DataLoader(testset, batch_size=BATCH_SIZE, collate_fn=create_mini_batch)"
   ]
  },
  {
   "cell_type": "code",
   "execution_count": 68,
   "metadata": {
    "execution": {
     "iopub.execute_input": "2022-11-23T11:56:23.338190Z",
     "iopub.status.busy": "2022-11-23T11:56:23.337950Z",
     "iopub.status.idle": "2022-11-23T11:56:23.459811Z",
     "shell.execute_reply": "2022-11-23T11:56:23.458818Z",
     "shell.execute_reply.started": "2022-11-23T11:56:23.338173Z"
    },
    "tags": []
   },
   "outputs": [],
   "source": [
    "PRETRAINED_MODEL_NAME = \"bert-base-uncased\"\n",
    "NUM_LABELS = 2\n",
    "\n",
    "model = BertForSequenceClassification.from_pretrained(PRETRAINED_MODEL_NAME, num_labels = NUM_LABELS)\n",
    "#model = torch.load('MODEL-nvzhuang')\n",
    "\n",
    "def get_learnable_params(module):\n",
    "    return [p for p in module.parameters() if p.requires_grad]\n",
    "model_params = get_learnable_params(model)\n",
    "optimizer = torch.optim.Adam(model_params, lr=1.0e-5)\n",
    "\n",
    "def get_predictions(model, dataloader, compute_acc = False):\n",
    "    predictions = None\n",
    "    correct = 0\n",
    "    total = 0\n",
    "    \n",
    "    model.eval()\n",
    "    with torch.no_grad():\n",
    "        for data in dataloader:\n",
    "            if next(model.parameters()).is_cuda:\n",
    "                data = [t.to(\"cuda:0\") for t in data if t is not None]\n",
    "            \n",
    "            outputs = model(*data[:2])\n",
    "            # tokens,masks\n",
    "            logits = outputs[0]\n",
    "            _, pred = torch.max(logits.data, 1)\n",
    "            \n",
    "            if compute_acc:\n",
    "                labels = data[2]\n",
    "                total += labels.size(0)\n",
    "                correct += (pred == labels).sum().item()\n",
    "                \n",
    "            if predictions is None:\n",
    "                predictions = pred\n",
    "            else:\n",
    "                predictions = torch.cat((predictions, pred))\n",
    "    \n",
    "    if compute_acc:\n",
    "        acc = correct / total\n",
    "        return predictions, acc\n",
    "    return predictions\n"
   ]
  },
  {
   "cell_type": "code",
   "execution_count": 38,
   "metadata": {
    "execution": {
     "iopub.execute_input": "2022-11-23T11:43:15.860726Z",
     "iopub.status.busy": "2022-11-23T11:43:15.860502Z",
     "iopub.status.idle": "2022-11-23T11:46:04.596626Z",
     "shell.execute_reply": "2022-11-23T11:46:04.595382Z",
     "shell.execute_reply.started": "2022-11-23T11:43:15.860710Z"
    },
    "tags": []
   },
   "outputs": [
    {
     "name": "stdout",
     "output_type": "stream",
     "text": [
      "device: cuda:0\n",
      "batch size:32\n",
      "[epoch 1] loss: 53.573488, acc: 0.908755\n",
      "train acc: 0.9087552742616034\n",
      "test acc: 0.8575949367088608\n",
      "[epoch 2] loss: 29.151986, acc: 0.943038\n",
      "train acc: 0.9430379746835443\n",
      "test acc: 0.8649789029535865\n",
      "[epoch 3] loss: 16.697414, acc: 0.979167\n",
      "train acc: 0.9791666666666666\n",
      "test acc: 0.869198312236287\n",
      "[epoch 4] loss: 9.830141, acc: 0.988660\n",
      "train acc: 0.9886603375527426\n",
      "test acc: 0.8723628691983122\n",
      "[epoch 5] loss: 6.683950, acc: 0.991825\n",
      "train acc: 0.991824894514768\n",
      "test acc: 0.8713080168776371\n",
      "time:168.73\n"
     ]
    },
    {
     "data": {
      "text/plain": [
       "'\\ndevice: cuda:0\\nbatch size:64\\n[epoch 1] loss: 30.413287, acc: 0.888713\\ntrain acc: 0.8887130801687764\\ntest acc: 0.8575949367088608\\n[epoch 2] loss: 18.309700, acc: 0.926424\\ntrain acc: 0.9264240506329114\\ntest acc: 0.8660337552742616\\n[epoch 3] loss: 12.814945, acc: 0.962816\\ntrain acc: 0.9628164556962026\\ntest acc: 0.8607594936708861\\n[epoch 4] loss: 8.920437, acc: 0.973365\\ntrain acc: 0.9733649789029536\\ntest acc: 0.8607594936708861\\n[epoch 5] loss: 7.572672, acc: 0.974420\\ntrain acc: 0.9744198312236287\\ntest acc: 0.8575949367088608\\ntime:160.83\\n'"
      ]
     },
     "execution_count": 38,
     "metadata": {},
     "output_type": "execute_result"
    }
   ],
   "source": [
    "require_acc = True#每次epoch迭代都输出\n",
    "start = time.time()\n",
    "\n",
    "device = torch.device(\"cuda:0\" if torch.cuda.is_available() else \"cpu\")\n",
    "print(\"device:\", device)\n",
    "print(f\"batch size:{BATCH_SIZE}\")\n",
    "model = model.to(device)\n",
    "\n",
    "EPOCHS = 5#初始设置为5\n",
    "for epoch in range(EPOCHS):\n",
    "\n",
    "    running_loss = 0.0\n",
    "    for data in trainloader:\n",
    "\n",
    "        tokens_tensors, masks_tensors, labels = [t.to(device) for t in data]#segments_tensors, \n",
    "\n",
    "        optimizer.zero_grad()\n",
    "        outputs = model(input_ids=tokens_tensors, \n",
    "                            #token_type_ids=segments_tensors, \n",
    "                            attention_mask=masks_tensors, \n",
    "                            labels=labels)\n",
    "        \n",
    "        loss = outputs[0]\n",
    "        #print(loss.shape)\n",
    "        loss.backward()\n",
    "        optimizer.step()\n",
    "\n",
    "        running_loss += loss.item()\n",
    "\n",
    "    if(require_acc):\n",
    "        _, acc = get_predictions(model, trainloader, compute_acc = True)\n",
    "        print(f'[epoch {epoch+1}] loss: {running_loss:3f}, acc: {acc:3f}')\n",
    "    else:\n",
    "        _ = get_predictions(model, trainloader, compute_acc = False)\n",
    "        print(f'[epoch {epoch+1}] loss: {running_loss:3f}')\n",
    "    _, acc = get_predictions(model, trainloader, compute_acc = True)\n",
    "    print(\"train acc:\", acc)\n",
    "\n",
    "    _, acc = get_predictions(model, testloader, compute_acc = True)\n",
    "    print(\"test acc:\", acc)\n",
    "\n",
    "end = time.time()\n",
    "print(f\"time:{end-start:.2f}\")\n",
    "'''\n",
    "device: cuda:0\n",
    "batch size:32\n",
    "[epoch 1] loss: 53.573488, acc: 0.908755\n",
    "train acc: 0.9087552742616034\n",
    "test acc: 0.8575949367088608\n",
    "[epoch 2] loss: 29.151986, acc: 0.943038\n",
    "train acc: 0.9430379746835443\n",
    "test acc: 0.8649789029535865\n",
    "[epoch 3] loss: 16.697414, acc: 0.979167\n",
    "train acc: 0.9791666666666666\n",
    "test acc: 0.869198312236287\n",
    "[epoch 4] loss: 9.830141, acc: 0.988660\n",
    "train acc: 0.9886603375527426\n",
    "test acc: 0.8723628691983122\n",
    "[epoch 5] loss: 6.683950, acc: 0.991825\n",
    "train acc: 0.991824894514768\n",
    "test acc: 0.8713080168776371\n",
    "time:168.73\n",
    "'''\n",
    "    "
   ]
  },
  {
   "cell_type": "code",
   "execution_count": 40,
   "metadata": {
    "execution": {
     "iopub.execute_input": "2022-11-23T11:46:45.442451Z",
     "iopub.status.busy": "2022-11-23T11:46:45.442195Z",
     "iopub.status.idle": "2022-11-23T11:46:45.942158Z",
     "shell.execute_reply": "2022-11-23T11:46:45.941109Z",
     "shell.execute_reply.started": "2022-11-23T11:46:45.442434Z"
    },
    "tags": []
   },
   "outputs": [],
   "source": [
    "#保存模型\n",
    "torch.save(model, 'MODEL-nvzhuang')"
   ]
  },
  {
   "cell_type": "code",
   "execution_count": 69,
   "metadata": {
    "execution": {
     "iopub.execute_input": "2022-11-23T11:56:37.655103Z",
     "iopub.status.busy": "2022-11-23T11:56:37.654860Z",
     "iopub.status.idle": "2022-11-23T11:56:46.569791Z",
     "shell.execute_reply": "2022-11-23T11:56:46.568765Z",
     "shell.execute_reply.started": "2022-11-23T11:56:37.655086Z"
    },
    "tags": []
   },
   "outputs": [
    {
     "name": "stdout",
     "output_type": "stream",
     "text": [
      "device: cuda:0\n",
      "train acc: 0.9375\n",
      "test acc: 0.8839662447257384\n"
     ]
    }
   ],
   "source": [
    "#展示最终模型的结果\n",
    "device = torch.device(\"cuda:0\" if torch.cuda.is_available() else \"cpu\")\n",
    "print(\"device:\", device)\n",
    "model = model.to(device)\n",
    "Bert_train, acc = get_predictions(model, trainloader, compute_acc = True)\n",
    "print(\"train acc:\", acc)\n",
    "\n",
    "Bert_test, acc = get_predictions(model, testloader, compute_acc = True)\n",
    "print(\"test acc:\", acc)\n",
    "\n",
    "'''\n",
    "device: cuda:0\n",
    "train acc: 0.9375\n",
    "test acc: 0.8839662447257384\n",
    "'''"
   ]
  },
  {
   "cell_type": "code",
   "execution_count": 71,
   "metadata": {
    "execution": {
     "iopub.execute_input": "2022-11-23T11:56:59.502870Z",
     "iopub.status.busy": "2022-11-23T11:56:59.502490Z",
     "iopub.status.idle": "2022-11-23T11:56:59.577041Z",
     "shell.execute_reply": "2022-11-23T11:56:59.576182Z",
     "shell.execute_reply.started": "2022-11-23T11:56:59.502837Z"
    },
    "tags": []
   },
   "outputs": [],
   "source": [
    "#保存模型结果后续分析\n",
    "train['Bert']=Bert_train.tolist()\n",
    "test['Bert']=Bert_test.tolist()\n",
    "train['LR']=list(clf.predict(X_train))\n",
    "test['LR']=list(clf.predict(X_test))\n",
    "result=pd.concat ([train,test],axis =0,ignore_index =True) #正负样本均为2370\n",
    "result.to_csv(\"nvzhuang4740.csv\")"
   ]
  },
  {
   "cell_type": "code",
   "execution_count": 3,
   "metadata": {},
   "outputs": [
    {
     "data": {
      "image/png": "[encoded data removed]",
      "text/plain": [
       "<Figure size 432x288 with 1 Axes>"
      ]
     },
     "metadata": {},
     "output_type": "display_data"
    }
   ],
   "source": [
    "#猜测和\n",
    "result=pd.read_csv(\"nvzhuang4740.csv\")\n",
    "twist_list=['but','But','BUT','BuT','however','However','whereas','Whereas','nevertheless','Nevertheless','Although','Though','While','Yet','though','while','yet']\n",
    "#转折词个数\n",
    "def twist_count(x):\n",
    "    n=0\n",
    "    for i in twist_list:\n",
    "        n+=x.count(i)\n",
    "    return n\n",
    "result['twist_count']=result['Review Text'].apply(twist_count)\n",
    "dataname = result['twist_count']\n",
    "freq = dataname.value_counts(normalize = True) #也可以不归一化，在后面画图时候函数会自动归一化\n",
    "plt.pie(freq, labels = freq.index,explode = (0, 0, 0,0,1,2,3,4), autopct = '%.1f%%')\n",
    "plt.show()"
   ]
  }
 ],
 "metadata": {
  "kernelspec": {
   "display_name": "Python 3 (ipykernel)",
   "language": "python",
   "name": "python3"
  },
  "language_info": {
   "codemirror_mode": {
    "name": "ipython",
    "version": 3
   },
   "file_extension": ".py",
   "mimetype": "text/x-python",
   "name": "python",
   "nbconvert_exporter": "python",
   "pygments_lexer": "ipython3",
   "version": "3.8.12"
  },
  "vscode": {
   "interpreter": {
    "hash": "ce52d5967f2bf7d082d78cf0be333a1d3d5d783093065ff125fc027cf3f1b0b9"
   }
  }
 },
 "nbformat": 4,
 "nbformat_minor": 4
}
